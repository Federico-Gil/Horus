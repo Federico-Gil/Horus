{
  "nbformat": 4,
  "nbformat_minor": 0,
  "metadata": {
    "accelerator": "GPU",
    "colab": {
      "name": "diego.ipynb",
      "provenance": [],
      "collapsed_sections": []
    },
    "kernelspec": {
      "display_name": "Python 3.9.1 64-bit",
      "name": "python3"
    },
    "language_info": {
      "name": "python",
      "version": "3.9.1"
    }
  },
  "cells": [
    {
      "cell_type": "code",
      "metadata": {
        "id": "SKy4vAdhhpir"
      },
      "source": [
        "import sys\n",
        "import numpy as np\n",
        "import os\n",
        "from tensorflow.python.keras.preprocessing.image import ImageDataGenerator\n",
        "from tensorflow.python.keras import optimizers\n",
        "from tensorflow.python.keras.models import Sequential\n",
        "from tensorflow.python.keras.layers import Dropout, Flatten, Dense, Activation\n",
        "from tensorflow.python.keras.layers import  Convolution2D, MaxPooling2D\n",
        "from tensorflow.python.keras import backend as K\n",
        "import tensorflow as tf\n",
        "from keras.models import load_model\n",
        "from keras.preprocessing.image import load_img, img_to_array\n",
        "K.clear_session()\n",
        "import pandas as pd\n",
        "from matplotlib import pyplot as plt\n",
        "import seaborn as sns\n"
      ],
      "execution_count": 4,
      "outputs": []
    },
    {
      "cell_type": "code",
      "metadata": {
        "id": "TTEJpPfXiUVq"
      },
      "source": [
        "epocas= 10\n",
        "longitud, altura = 128, 128\n",
        "batch_size = 32\n",
        "filtrosConv1 = 32\n",
        "filtrosConv2 = 16\n",
        "tamano_filtro1 = (16, 16)\n",
        "tamano_filtro2 = (8, 8)\n",
        "tamano_pool = (4,4)\n",
        "clases = 4\n",
        "\n",
        "data_entrenamiento = '/content/dataset/train'\n",
        "data_validacion = '/content/dataset/test'\n"
      ],
      "execution_count": 5,
      "outputs": []
    },
    {
      "cell_type": "code",
      "metadata": {
        "id": "PVQJug0TdZVz"
      },
      "source": [
        ""
      ],
      "execution_count": 5,
      "outputs": []
    },
    {
      "cell_type": "markdown",
      "metadata": {
        "id": "CLI9UAbYm27i"
      },
      "source": [
        "# Nueva sección"
      ]
    },
    {
      "cell_type": "code",
      "metadata": {
        "colab": {
          "base_uri": "https://localhost:8080/"
        },
        "id": "_zijxgkEn8s5",
        "outputId": "07c3ec2b-5b44-4b92-9afe-3ddd8c289f51"
      },
      "source": [
        "train = ImageDataGenerator(rescale=1. / 255,rotation_range=15,zoom_range=0.1,brightness_range=(0.2,0.8),shear_range=5)\n",
        "validation = ImageDataGenerator(rescale=1. / 255)\n",
        "\n",
        "train_dataset = train.flow_from_directory(\n",
        "    data_entrenamiento,\n",
        "    target_size=(altura, longitud),\n",
        "    batch_size=batch_size,\n",
        "    class_mode='categorical')\n",
        "\n",
        "validation_dataset = validation.flow_from_directory(\n",
        "    data_validacion,\n",
        "    target_size=(altura, longitud),\n",
        "    batch_size=batch_size,\n",
        "    class_mode='categorical')\n",
        "\n",
        "train_dataset.class_indices\n",
        "\n"
      ],
      "execution_count": 6,
      "outputs": [
        {
          "output_type": "stream",
          "text": [
            "Found 11775 images belonging to 4 classes.\n",
            "Found 2835 images belonging to 4 classes.\n"
          ],
          "name": "stdout"
        },
        {
          "output_type": "execute_result",
          "data": {
            "text/plain": [
              "{'blinking': 0, 'center': 1, 'left': 2, 'right': 3}"
            ]
          },
          "metadata": {
            "tags": []
          },
          "execution_count": 6
        }
      ]
    },
    {
      "cell_type": "code",
      "metadata": {
        "colab": {
          "base_uri": "https://localhost:8080/"
        },
        "id": "5rt1ly8IpaOa",
        "outputId": "7bbb6649-1b3f-4ea1-825b-9b05ad13433e"
      },
      "source": [
        "cnn = Sequential()\n",
        "cnn.add(Convolution2D(filtrosConv1, tamano_filtro1, input_shape=(longitud, altura, 3), activation='relu'))\n",
        "cnn.add(MaxPooling2D(pool_size=tamano_pool))\n",
        "\n",
        "cnn.add(Convolution2D(filtrosConv2, tamano_filtro2))\n",
        "cnn.add(MaxPooling2D(pool_size=tamano_pool))\n",
        "\n",
        "cnn.add(Flatten())\n",
        "cnn.add(Dense(256, activation='relu'))\n",
        "cnn.add(Dropout(.5))\n",
        "cnn.add(Dense(clases, activation='softmax'))\n",
        "\n",
        "cnn.compile(loss='categorical_crossentropy',\n",
        "              optimizer='adam',\n",
        "              metrics=['accuracy', tf.keras.metrics.Recall()])\n",
        "\n",
        "history = cnn.fit(\n",
        "    train_dataset,\n",
        "    epochs=epocas,\n",
        "    validation_data=validation_dataset)\n",
        "\n",
        "target_dir = './modelo/'\n",
        "if not os.path.exists(target_dir):\n",
        "  os.mkdir(target_dir)\n",
        "cnn.save('modelo.h5')"
      ],
      "execution_count": 7,
      "outputs": [
        {
          "output_type": "stream",
          "text": [
            "Epoch 1/10\n",
            "368/368 [==============================] - 81s 133ms/step - loss: 0.1930 - accuracy: 0.9338 - recall: 0.9108 - val_loss: 0.0570 - val_accuracy: 0.9880 - val_recall: 0.9877\n",
            "Epoch 2/10\n",
            "368/368 [==============================] - 47s 128ms/step - loss: 0.0408 - accuracy: 0.9918 - recall: 0.9915 - val_loss: 0.0391 - val_accuracy: 0.9873 - val_recall: 0.9869\n",
            "Epoch 3/10\n",
            "368/368 [==============================] - 48s 129ms/step - loss: 0.0286 - accuracy: 0.9947 - recall: 0.9946 - val_loss: 0.0299 - val_accuracy: 0.9915 - val_recall: 0.9908\n",
            "Epoch 4/10\n",
            "368/368 [==============================] - 47s 129ms/step - loss: 0.0323 - accuracy: 0.9933 - recall: 0.9932 - val_loss: 0.1296 - val_accuracy: 0.9608 - val_recall: 0.9531\n",
            "Epoch 5/10\n",
            "368/368 [==============================] - 47s 129ms/step - loss: 0.0354 - accuracy: 0.9939 - recall: 0.9939 - val_loss: 0.0289 - val_accuracy: 0.9915 - val_recall: 0.9915\n",
            "Epoch 6/10\n",
            "368/368 [==============================] - 47s 129ms/step - loss: 0.0230 - accuracy: 0.9949 - recall: 0.9948 - val_loss: 0.0336 - val_accuracy: 0.9855 - val_recall: 0.9848\n",
            "Epoch 7/10\n",
            "368/368 [==============================] - 47s 129ms/step - loss: 0.0255 - accuracy: 0.9942 - recall: 0.9941 - val_loss: 0.2413 - val_accuracy: 0.9580 - val_recall: 0.9524\n",
            "Epoch 8/10\n",
            "368/368 [==============================] - 48s 129ms/step - loss: 0.0140 - accuracy: 0.9971 - recall: 0.9969 - val_loss: 0.0228 - val_accuracy: 0.9933 - val_recall: 0.9929\n",
            "Epoch 9/10\n",
            "368/368 [==============================] - 47s 129ms/step - loss: 0.0181 - accuracy: 0.9970 - recall: 0.9969 - val_loss: 0.0540 - val_accuracy: 0.9838 - val_recall: 0.9824\n",
            "Epoch 10/10\n",
            "368/368 [==============================] - 48s 131ms/step - loss: 0.0158 - accuracy: 0.9964 - recall: 0.9963 - val_loss: 0.0411 - val_accuracy: 0.9884 - val_recall: 0.9877\n"
          ],
          "name": "stdout"
        }
      ]
    },
    {
      "cell_type": "markdown",
      "metadata": {
        "id": "OkZrK_khs1QW"
      },
      "source": [
        ""
      ]
    },
    {
      "cell_type": "markdown",
      "metadata": {
        "id": "CipnOu9ss284"
      },
      "source": [
        ""
      ]
    },
    {
      "cell_type": "code",
      "metadata": {
        "id": "fWmix4fNsz7g"
      },
      "source": [
        ""
      ],
      "execution_count": 7,
      "outputs": []
    },
    {
      "cell_type": "markdown",
      "metadata": {
        "id": "l_qfmopXsy6s"
      },
      "source": [
        "# **GRAFICAS**"
      ]
    },
    {
      "cell_type": "code",
      "metadata": {
        "colab": {
          "base_uri": "https://localhost:8080/",
          "height": 573
        },
        "id": "n2u8eioSsHOi",
        "outputId": "35be9fa8-54c4-4840-b018-a9061e1e1fe3"
      },
      "source": [
        "loss = history.history['loss']\n",
        "val_loss = history.history['val_loss']\n",
        "epochs = range(1, len(loss) + 1)\n",
        "plt.plot(epochs, loss, 'y', label='Training loss')\n",
        "plt.plot(epochs, val_loss, 'r', label='Validation loss')\n",
        "plt.title('Training and validation loss')\n",
        "plt.xlabel('Epochs')\n",
        "plt.ylabel('Loss')\n",
        "plt.legend()\n",
        "plt.show()\n",
        "\n",
        "\n",
        "acc = history.history['accuracy']\n",
        "val_acc = history.history['val_accuracy']\n",
        "plt.plot(epochs, acc, 'y', label='Training acc')\n",
        "plt.plot(epochs, val_acc, 'r', label='Validation acc')\n",
        "plt.title('Training and validation accuracy')\n",
        "plt.xlabel('Epochs')\n",
        "plt.ylabel('Accuracy')\n",
        "plt.legend()\n",
        "plt.show()"
      ],
      "execution_count": 8,
      "outputs": [
        {
          "output_type": "display_data",
          "data": {
            "image/png": "[encoded data removed]",
            "text/plain": [
              "<Figure size 432x288 with 1 Axes>"
            ]
          },
          "metadata": {
            "tags": [],
            "needs_background": "light"
          }
        },
        {
          "output_type": "display_data",
          "data": {
            "image/png": "[encoded data removed]",
            "text/plain": [
              "<Figure size 432x288 with 1 Axes>"
            ]
          },
          "metadata": {
            "tags": [],
            "needs_background": "light"
          }
        }
      ]
    },
    {
      "cell_type": "markdown",
      "metadata": {
        "id": "Gxppqe-4wWOr"
      },
      "source": [
        "\n",
        "# **Probar Modelo**"
      ]
    },
    {
      "cell_type": "code",
      "metadata": {
        "colab": {
          "base_uri": "https://localhost:8080/"
        },
        "id": "fefLSXlLvPIo",
        "outputId": "5ad00c66-3205-40ca-b0b2-1f607cb6f48c"
      },
      "source": [
        "dim = (128,128)\n",
        "model = load_model('modelo.h5')\n",
        "\n",
        "\n",
        "blinking = 0\n",
        "center = 1\n",
        "left = 2\n",
        "right = 3\n",
        "\n",
        "def predict(file):\n",
        "    x = load_img(file, target_size=dim)\n",
        "    x = img_to_array(x)\n",
        "    x = np.expand_dims(x, axis=0)\n",
        "    array = model.predict(x)\n",
        "    result = array[0]\n",
        "    answer = np.argmax(result)\n",
        "    return answer\n",
        "\n",
        "\n",
        "\n",
        "aciertos = np.array([0,0,0,0])\n",
        "total = np.array([0,0,0,0])\n",
        "\n",
        "opciones = ['blinking','center','left','right']\n",
        "\n",
        "i = 0\n",
        "for opcion in opciones:\n",
        "    dir = 'fotos/' + opcion\n",
        "    for file in os.listdir(dir):\n",
        "        if (predict(dir + '/' + file) == i):\n",
        "            aciertos[i] = aciertos[i] + 1\n",
        "        total[i] = total[i] + 1\n",
        "    i = i + 1\n",
        "\n",
        "for j in range(4):\n",
        "    print(\"Tasa de acierto Categoria  \",j, aciertos[j] / total[j])\n",
        "\n"
      ],
      "execution_count": 9,
      "outputs": [
        {
          "output_type": "stream",
          "text": [
            "Tasa de acierto Categoria   0 1.0\n",
            "Tasa de acierto Categoria   1 1.0\n",
            "Tasa de acierto Categoria   2 1.0\n",
            "Tasa de acierto Categoria   3 1.0\n"
          ],
          "name": "stdout"
        }
      ]
    },
    {
      "cell_type": "code",
      "metadata": {
        "colab": {
          "base_uri": "https://localhost:8080/"
        },
        "id": "I8_V7F5hJq2g",
        "outputId": "0a72973f-ea8b-46b8-bd9f-06b0864c0203"
      },
      "source": [
        "dim = (128,128)\n",
        "\n",
        "blinking = 0\n",
        "center = 1\n",
        "left = 2\n",
        "right = 3\n",
        "\n",
        "def predict(file):\n",
        "    x = load_img(file, target_size=dim)\n",
        "    x = img_to_array(x)\n",
        "    x = np.expand_dims(x, axis=0)\n",
        "    array = model.predict(x)\n",
        "    result = array[0]\n",
        "    answer = np.argmax(result)\n",
        "    return answer\n",
        "\n",
        "\n",
        "\n",
        "aciertos = np.array([0,0,0,0])\n",
        "total = np.array([0,0,0,0])\n",
        "\n",
        "opciones = ['blinking','center','left','right']\n",
        "\n",
        "i = 0\n",
        "matrix = np.zeros((4,4))\n",
        "for opcion in opciones:\n",
        "    dir = 'dataset/test/' + opcion\n",
        "    for file in os.listdir(dir):\n",
        "        matrix[predict(dir + '/' + file)][i] = matrix[predict(dir + '/' + file)][i] + 1\n",
        "        if (predict(dir + '/' + file) == i):\n",
        "            aciertos[i] = aciertos[i] + 1\n",
        "        total[i] = total[i] + 1\n",
        "    i = i + 1\n",
        "\n",
        "for j in range(4):\n",
        "    print(\"Tasa de acierto Categoria  \",j, aciertos[j] / total[j])\n",
        "    matrix[:,j] = matrix[:,j] / total[j]\n",
        "\n",
        "print(matrix)"
      ],
      "execution_count": 10,
      "outputs": [
        {
          "output_type": "stream",
          "text": [
            "Tasa de acierto Categoria   0 0.995850622406639\n",
            "Tasa de acierto Categoria   1 0.9962593516209476\n",
            "Tasa de acierto Categoria   2 0.9827833572453372\n",
            "Tasa de acierto Categoria   3 0.99836867862969\n",
            "[[0.99585062 0.00124688 0.01004304 0.00163132]\n",
            " [0.         0.99625935 0.00430416 0.        ]\n",
            " [0.         0.00124688 0.98278336 0.        ]\n",
            " [0.00414938 0.00124688 0.00286944 0.99836868]]\n"
          ],
          "name": "stdout"
        }
      ]
    },
    {
      "cell_type": "code",
      "metadata": {
        "colab": {
          "base_uri": "https://localhost:8080/",
          "height": 282
        },
        "id": "WZJCDeuyCMHc",
        "outputId": "6a7488c2-9c0e-411c-dfd7-5020ba4cdb64"
      },
      "source": [
        "import numpy as np \n",
        "from pandas import DataFrame\n",
        "import seaborn as sns\n",
        "%matplotlib inline\n",
        "\n",
        "Index= ['Blinking', 'Center', 'Left', 'Right']\n",
        "Cols = ['Blinking', 'Center', 'Left', 'Right']\n",
        "\n",
        "np.trunc(matrix)\n",
        "cm = sns.light_palette(\"purple\", as_cmap=True)\n",
        "df = DataFrame(matrix, index=Index, columns=Cols)\n",
        "\n",
        "sns.heatmap(df, annot=True, cmap=cm)"
      ],
      "execution_count": 11,
      "outputs": [
        {
          "output_type": "execute_result",
          "data": {
            "text/plain": [
              "<matplotlib.axes._subplots.AxesSubplot at 0x7f5e1a3027d0>"
            ]
          },
          "metadata": {
            "tags": []
          },
          "execution_count": 11
        },
        {
          "output_type": "display_data",
          "data": {
            "image/png": "[encoded data removed]",
            "text/plain": [
              "<Figure size 432x288 with 2 Axes>"
            ]
          },
          "metadata": {
            "tags": [],
            "needs_background": "light"
          }
        }
      ]
    },
    {
      "cell_type": "code",
      "metadata": {
        "id": "x4HT8wSCAGm7",
        "colab": {
          "base_uri": "https://localhost:8080/"
        },
        "outputId": "102dc5c3-15d1-4b3d-c268-d041e43fe184"
      },
      "source": [
        "!unzip fotos.zip"
      ],
      "execution_count": 12,
      "outputs": [
        {
          "output_type": "stream",
          "text": [
            "Archive:  fotos.zip\n",
            "replace fotos/blinking/img_202.jpg? [y]es, [n]o, [A]ll, [N]one, [r]ename: "
          ],
          "name": "stdout"
        }
      ]
    },
    {
      "cell_type": "code",
      "metadata": {
        "id": "Y4tfxrGMCi3D",
        "colab": {
          "base_uri": "https://localhost:8080/"
        },
        "outputId": "745cdf9e-036d-4786-8bdb-7458b38608c7"
      },
      "source": [
        "!nvidia-smi"
      ],
      "execution_count": 14,
      "outputs": [
        {
          "output_type": "stream",
          "text": [
            "Thu Jun 10 01:51:17 2021       \n",
            "+-----------------------------------------------------------------------------+\n",
            "| NVIDIA-SMI 465.27       Driver Version: 460.32.03    CUDA Version: 11.2     |\n",
            "|-------------------------------+----------------------+----------------------+\n",
            "| GPU  Name        Persistence-M| Bus-Id        Disp.A | Volatile Uncorr. ECC |\n",
            "| Fan  Temp  Perf  Pwr:Usage/Cap|         Memory-Usage | GPU-Util  Compute M. |\n",
            "|                               |                      |               MIG M. |\n",
            "|===============================+======================+======================|\n",
            "|   0  Tesla T4            Off  | 00000000:00:04.0 Off |                    0 |\n",
            "| N/A   54C    P0    28W /  70W |   1210MiB / 15109MiB |      0%      Default |\n",
            "|                               |                      |                  N/A |\n",
            "+-------------------------------+----------------------+----------------------+\n",
            "                                                                               \n",
            "+-----------------------------------------------------------------------------+\n",
            "| Processes:                                                                  |\n",
            "|  GPU   GI   CI        PID   Type   Process name                  GPU Memory |\n",
            "|        ID   ID                                                   Usage      |\n",
            "|=============================================================================|\n",
            "+-----------------------------------------------------------------------------+\n"
          ],
          "name": "stdout"
        }
      ]
    }
  ]
}
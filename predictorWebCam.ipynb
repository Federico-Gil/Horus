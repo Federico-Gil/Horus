{
 "metadata": {
  "language_info": {
   "codemirror_mode": {
    "name": "ipython",
    "version": 3
   },
   "file_extension": ".py",
   "mimetype": "text/x-python",
   "name": "python",
   "nbconvert_exporter": "python",
   "pygments_lexer": "ipython3",
   "version": 3
  },
  "orig_nbformat": 2
 },
 "nbformat": 4,
 "nbformat_minor": 2,
 "cells": [
  {
   "cell_type": "code",
   "execution_count": null,
   "metadata": {},
   "outputs": [],
   "source": [
    "import numpy as np\n",
    "import cv2\n",
    "from keras.models import load_model\n",
    "from keras.preprocessing.image import load_img, img_to_array\n",
    "import statistics as stat"
   ]
  },
  {
   "cell_type": "code",
   "execution_count": null,
   "metadata": {},
   "outputs": [],
   "source": [
    "#Cargamos el modulo detector de Rostros\n",
    "predictor_caras = cv2.CascadeClassifier('predictor_caras.xml')\n",
    "\n",
    "#Cargamos el modulo detector de Ojos\n",
    "predictor_ojos = cv2.CascadeClassifier('predictor_ojos.xml')\n",
    "\n",
    "#Cargamos nuestro modelo\n",
    "model = load_model('modelo/modelo_horus.h5')"
   ]
  },
  {
   "cell_type": "code",
   "execution_count": null,
   "metadata": {},
   "outputs": [],
   "source": [
    "#Declaramos las dimenciones que tendran las imagenes con las que trataremos\n",
    "dim = (128,128)"
   ]
  },
  {
   "cell_type": "code",
   "execution_count": null,
   "metadata": {},
   "outputs": [],
   "source": [
    "#Declaramos la funcion que predice utilizando nuestro modelo\n",
    "def predict(ojos):\n",
    "    x = load_img(ojos, target_size=dim)\n",
    "    x = img_to_array(x)\n",
    "    x = np.expand_dims(x, axis=0)\n",
    "    array = model.predict(x)\n",
    "    result = array[0]\n",
    "    answer = np.argmax(result)\n",
    "    return answer\n",
    "pass"
   ]
  },
  {
   "cell_type": "code",
   "execution_count": null,
   "metadata": {},
   "outputs": [],
   "source": [
    "predicciones = [0,0,0]\n",
    "i = 0"
   ]
  },
  {
   "cell_type": "code",
   "execution_count": null,
   "metadata": {},
   "outputs": [],
   "source": [
    "cap = cv2.VideoCapture(0)\n",
    "ret, img = cap.read()"
   ]
  },
  {
   "cell_type": "code",
   "execution_count": null,
   "metadata": {},
   "outputs": [],
   "source": [
    "while ret:\n",
    "    imagen_en_gris = cv2.cvtColor(img, cv2.COLOR_BGR2GRAY)\n",
    "\n",
    "    faces = predictor_caras.detectMultiScale(imagen_en_gris, 1.3, 5)\n",
    "    for (x,y,w,h) in faces:\n",
    "        cara = imagen_en_gris[y:y+h, x:x+w]\n",
    "        \n",
    "        eyes = predictor_ojos.detectMultiScale(cara)\n",
    "        if len(eyes) == 0:\n",
    "            print(\"No se detectan Ojos\")\n",
    "        else:\n",
    "            ex,ey,ew,eh = eyes[0]\n",
    "            ojos = cara[ey:ey+ew,ex:ex+eh]\n",
    "            ojos = cv2.resize(ojos, dim, interpolation = cv2.INTER_AREA)\n",
    "            cv2.imshow('img',ojos)\n",
    "            cv2.imwrite('ojo.jpg',ojos)\n",
    "            predicciones[i] = predict('ojo.jpg')\n",
    "            i+=1\n",
    "            if i == 3:\n",
    "                i=0\n",
    "                print('Prediccion: ',stat.mean(predicciones))\n",
    "\n",
    "    ret, img = cap.read()"
   ]
  },
  {
   "cell_type": "code",
   "execution_count": null,
   "metadata": {},
   "outputs": [],
   "source": [
    "#Liberamos la captura de video y destruimos las ventantas de visualizacion\n",
    "cap.release()\n",
    "cv2.destroyAllWindows()"
   ]
  }
 ]
}